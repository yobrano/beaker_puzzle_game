{
 "cells": [
  {
   "cell_type": "code",
   "execution_count": 1,
   "metadata": {},
   "outputs": [],
   "source": [
    "import numpy as np"
   ]
  },
  {
   "cell_type": "code",
   "execution_count": null,
   "metadata": {},
   "outputs": [],
   "source": []
  },
  {
   "cell_type": "code",
   "execution_count": 2,
   "metadata": {},
   "outputs": [],
   "source": [
    "no_columns = 4\n",
    "no_containers = 2\n",
    "colors = {'Black': 1,\n",
    "        'Blue': 2,\n",
    "        'Green': 3,\n",
    "        'Aqua': 4,\n",
    "        'Red': 5,\n",
    "        'Purple': 6,\n",
    "        'Yellow': 7,\n",
    "        'White': 8,\n",
    "        'Gray': 9}\n",
    "\n",
    "containers = np.zeros((no_containers, no_columns))"
   ]
  },
  {
   "cell_type": "code",
   "execution_count": 3,
   "metadata": {},
   "outputs": [],
   "source": [
    "containers = []\n",
    "\n",
    "def check_is_full(beaker):\n",
    "    return beaker[0] != 0\n",
    "\n",
    "def check_is_empty(beaker):\n",
    "    return beaker[-1] == 0\n",
    "\n",
    "\n",
    "def get_top_liquid(beaker):\n",
    "    for idx, section in enumerate(beaker):\n",
    "        if section != 0:\n",
    "            return (idx, section)\n",
    "    return (-1, 0)\n",
    "\n",
    "def check_is_locked(beaker):\n",
    "    is_locked = False\n",
    "    if check_is_empty(beaker) or not check_is_full(beaker):\n",
    "        return is_locked\n",
    "    \n",
    "    # if all colors are the same as the first then its locked\n",
    "    top_liquid = get_top_liquid(beaker)[-1]\n",
    "    for liquid in beaker:\n",
    "        if top_liquid != liquid:\n",
    "            return is_locked\n",
    "    \n",
    "    is_locked = True\n",
    "    return is_locked\n",
    "    \n",
    "def check_is_miscible(source, destination):\n",
    "    source_top_liquid = get_top_liquid(source)[-1]\n",
    "    destination_top_liquid = get_top_liquid(destination)[-1]\n",
    "    return source_top_liquid == destination_top_liquid\n",
    "\n",
    "def transfer_liquid(source, destination):\n",
    "    destination_is_full = check_is_full(destination)\n",
    "    destination_is_locked = check_is_locked(destination)\n",
    "    source_is_empty = check_is_empty(source)\n",
    "    source_is_locked = check_is_locked(source)\n",
    "\n",
    "    if(destination_is_full or source_is_empty or destination_is_locked or source_is_locked):\n",
    "        # either there is no liquid in source or destination is full\n",
    "        return [source, destination]\n",
    "\n",
    "    # the liquids can be transfered\n",
    "    if(check_is_empty(destination) or check_is_miscible(source, destination)):\n",
    "        source_top_liquid_idx, source_top_liquid = get_top_liquid(source)\n",
    "        destination_top_liquid_idx, _ = get_top_liquid(destination)\n",
    "\n",
    "        source[source_top_liquid_idx] = 0\n",
    "        destination_is_empty = check_is_empty(destination)\n",
    "\n",
    "        if(destination_is_empty):\n",
    "            destination[destination_top_liquid_idx]  = source_top_liquid\n",
    "        else:\n",
    "            destination[destination_top_liquid_idx - 1]  = source_top_liquid\n",
    "\n",
    "    still_miscible = check_is_miscible(source, destination)\n",
    "    if(still_miscible):\n",
    "        return transfer_liquid(source, destination)\n",
    "\n",
    "    return[source, destination]\n",
    "\n"
   ]
  },
  {
   "cell_type": "code",
   "execution_count": 6,
   "metadata": {},
   "outputs": [
    {
     "data": {
      "text/plain": [
       "[[2, 2, 1, 2], [1, 0, 2, 1]]"
      ]
     },
     "execution_count": 6,
     "metadata": {},
     "output_type": "execute_result"
    }
   ],
   "source": [
    "transfer_liquid([2, 2, 1, 2], [1, 0, 2, 1])"
   ]
  },
  {
   "cell_type": "markdown",
   "metadata": {},
   "source": [
    "## The game\n",
    "1. Provide the containers\n",
    "2. Move liquid from one container to another by indexing the source and desitnation containers. `game.transfer_liquid(source = 1, destination = 2)`\n",
    "3. Check game states:<br>\n",
    "    a) Game is won (WON)<br>\n",
    "    b) No more valid moves (LOST)<br>\n",
    "    c) Game is still in play (PLAY)<br>\n",
    "\n"
   ]
  },
  {
   "cell_type": "code",
   "execution_count": 8,
   "metadata": {},
   "outputs": [],
   "source": [
    "class IBeakerGameStates:\n",
    "    \"\"\" Contains different states that the beaker game can be in and a checking method. \"\"\"\n",
    "    WON:str = \"WON\"\n",
    "    LOST:str = \"LOST\"\n",
    "    PLAY:str = \"PLAY\"\n",
    "\n",
    "    def check_is_won(beakers):\n",
    "        \"\"\" Checks if all beakers contain the same liquid or they are empty \"\"\"\n",
    "\n",
    "    def check_is_play(beakers):\n",
    "        \"\"\" Check if there is either a combinaiton of beakes that contain misible liquids at the top or if there is an empty beaker.  \"\"\"\n",
    "\n",
    "    def check_is_lost(beakers):\n",
    "        \"\"\" By process of eliminaiton, the game must be lost. \"\"\"\n",
    "\n",
    "class BeakerMethods:\n",
    "    \"\"\" contains static method that can be uses on individual methods. \"\"\"\n",
    "    # copy from above. \n",
    "\n",
    "class IBeakerGameMechanics:\n",
    "    def __init__(self, beakers):\n",
    "        \"\"\" Assign the beakers as class variable. Initializes the game state.\"\"\"\n",
    "\n",
    "    def transfer_liquid(self, source_idx, destination_idx ):\n",
    "        \"\"\" Transfers liquid form one beaker to another. Returns an new state of the game \"\"\"\n",
    "\n",
    "    def check_game_state(self, ):\n",
    "        \"\"\" Checks the states of the game. \"\"\"\n",
    "\n",
    "\n",
    "\n",
    "class IBeaker:\n",
    "    \"\"\" The container that carries the liquids. \"\"\"\n",
    "    \n",
    "    "
   ]
  }
 ],
 "metadata": {
  "kernelspec": {
   "display_name": "root",
   "language": "python",
   "name": "python3"
  },
  "language_info": {
   "codemirror_mode": {
    "name": "ipython",
    "version": 3
   },
   "file_extension": ".py",
   "mimetype": "text/x-python",
   "name": "python",
   "nbconvert_exporter": "python",
   "pygments_lexer": "ipython3",
   "version": "3.12.1"
  }
 },
 "nbformat": 4,
 "nbformat_minor": 2
}
