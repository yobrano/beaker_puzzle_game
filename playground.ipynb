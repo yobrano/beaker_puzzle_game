{
 "cells": [
  {
   "cell_type": "code",
   "execution_count": 9,
   "metadata": {},
   "outputs": [],
   "source": [
    "import pandas as pd\n",
    "import numpy as np\n",
    "import requests\n",
    "from bs4 import BeautifulSoup\n"
   ]
  },
  {
   "cell_type": "code",
   "execution_count": 38,
   "metadata": {},
   "outputs": [
    {
     "data": {
      "text/plain": [
       "'https://www.google.com/search?q=SalesLife+POS+kenya'"
      ]
     },
     "execution_count": 38,
     "metadata": {},
     "output_type": "execute_result"
    }
   ],
   "source": [
    "r = requests.get(\"https://www.google.com/search\", params={\"q\": \"SalesLife POS kenya\"})\n",
    "soup = BeautifulSoup(r.text, \"html.parser\")\n",
    "r.url"
   ]
  },
  {
   "cell_type": "code",
   "execution_count": 40,
   "metadata": {},
   "outputs": [
    {
     "data": {
      "text/plain": [
       "['Google',\n",
       " 'hapa',\n",
       " 'Picha',\n",
       " 'Ramani',\n",
       " 'Video',\n",
       " 'Vitabu',\n",
       " 'Zana za kutafuta',\n",
       " 'Tafuta kurasa za Kiswahili',\n",
       " ' Saa iliyopita',\n",
       " ' Saa 24 zilizopita',\n",
       " ' Wiki iliyopita',\n",
       " ' Mwezi uliopita',\n",
       " ' Mwaka uliopita',\n",
       " 'Neno kwa neno',\n",
       " 'SALESLIFE | #1 Best Point of Sale (POS) System in Kenyasaleslife.com',\n",
       " 'SalesLife POS - LinkedInke.linkedin.com › company › saleslifepos',\n",
       " 'Maelekezo',\n",
       " 'Tovuti',\n",
       " 'The Best POS System in Kenya | SALESLIFE - Software Dynamicssoftwaredynamicsgroup.com › 2023/08 › the-best-po...',\n",
       " 'The Best supermarket pos system in Kenya. - SalesLife - SalesLifesaleslife.com › supermarket',\n",
       " 'POS SYSTEM IN KENYA (@saleslifepos) | TikTokwww.tiktok.com › @saleslifepos',\n",
       " 'Senior Retail Technology Consultant - SalesLife POS - LinkedInke.linkedin.com › saleslife-retail-technology-consulta...',\n",
       " 'KRA eTIMS Compliant POS in Kenya | SalesLife POSsoftwaredynamicsgroup.com › 2023/10 › kra-etims-c...',\n",
       " 'SalesLife POS (Nairobi, Kenya) - Contact Phone, Addresswww.businesslist.co.ke › ... › Software Applications',\n",
       " 'Need a KRA e-TIMS Compliant POS solution? Introducing ... - TikTokwww.tiktok.com › POS SYSTEM IN KENYA (@saleslifepos) | TikTok',\n",
       " '',\n",
       " 'Best Pos solutions companies in Kenya - Eliopluselioplus.com › africa › kenya › channel-partners › pos',\n",
       " 'Mbele >',\n",
       " 'Pata maelezo zaidi',\n",
       " 'Ingia',\n",
       " 'Mipangilio',\n",
       " 'Faragha',\n",
       " 'Masharti',\n",
       " 'Mandhari meusi: Yamezimwa']"
      ]
     },
     "execution_count": 40,
     "metadata": {},
     "output_type": "execute_result"
    }
   ],
   "source": [
    "# [link.get_text() for link in soup.find_all(\"a\")]\n",
    "[link.get_text() for link in soup.select(\"a\")]"
   ]
  },
  {
   "cell_type": "code",
   "execution_count": 26,
   "metadata": {},
   "outputs": [
    {
     "name": "stdout",
     "output_type": "stream",
     "text": [
      "/?sa=X&ved=0ahUKEwi40N-zl_uDAxUgrZUCHRASBWcQOwgC\n"
     ]
    }
   ],
   "source": [
    "try:\n",
    "    soup.find_all(\"a\")[0][\"id\"]\n",
    "except Exception:\n",
    "    print(soup.find_all(\"a\")[0][\"href\"])\n"
   ]
  },
  {
   "cell_type": "markdown",
   "metadata": {},
   "source": [
    "1. get the page\n",
    "2. get the links and title\n",
    "3. store the links"
   ]
  },
  {
   "cell_type": "code",
   "execution_count": 43,
   "metadata": {},
   "outputs": [
    {
     "data": {
      "text/html": [
       "<div>\n",
       "<style scoped>\n",
       "    .dataframe tbody tr th:only-of-type {\n",
       "        vertical-align: middle;\n",
       "    }\n",
       "\n",
       "    .dataframe tbody tr th {\n",
       "        vertical-align: top;\n",
       "    }\n",
       "\n",
       "    .dataframe thead th {\n",
       "        text-align: right;\n",
       "    }\n",
       "</style>\n",
       "<table border=\"1\" class=\"dataframe\">\n",
       "  <thead>\n",
       "    <tr style=\"text-align: right;\">\n",
       "      <th></th>\n",
       "      <th>Companies</th>\n",
       "      <th>links</th>\n",
       "    </tr>\n",
       "  </thead>\n",
       "  <tbody>\n",
       "    <tr>\n",
       "      <th>0</th>\n",
       "      <td>SalesLife POS</td>\n",
       "      <td>NaN</td>\n",
       "    </tr>\n",
       "    <tr>\n",
       "      <th>1</th>\n",
       "      <td>ROBISEARCH LIMITED</td>\n",
       "      <td>NaN</td>\n",
       "    </tr>\n",
       "    <tr>\n",
       "      <th>2</th>\n",
       "      <td>Software Dynamics Group</td>\n",
       "      <td>NaN</td>\n",
       "    </tr>\n",
       "    <tr>\n",
       "      <th>3</th>\n",
       "      <td>Wasili Communications</td>\n",
       "      <td>NaN</td>\n",
       "    </tr>\n",
       "    <tr>\n",
       "      <th>4</th>\n",
       "      <td>Skyroam Solutions Ltd</td>\n",
       "      <td>NaN</td>\n",
       "    </tr>\n",
       "  </tbody>\n",
       "</table>\n",
       "</div>"
      ],
      "text/plain": [
       "                 Companies  links\n",
       "0            SalesLife POS    NaN\n",
       "1       ROBISEARCH LIMITED    NaN\n",
       "2  Software Dynamics Group    NaN\n",
       "3    Wasili Communications    NaN\n",
       "4    Skyroam Solutions Ltd    NaN"
      ]
     },
     "execution_count": 43,
     "metadata": {},
     "output_type": "execute_result"
    }
   ],
   "source": [
    "df = pd.read_csv(\"companies.csv\")\n"
   ]
  },
  {
   "cell_type": "code",
   "execution_count": null,
   "metadata": {},
   "outputs": [],
   "source": [
    "def company_search(company_name):\n",
    "    req = requests.get(\"https://www.google.com/search\", params={\"q\": \"{company_name} Kenya\" })\n",
    "    soup = BeautifulSoup(req, \"html.parser\")\n",
    "    return soup.select[\"\"]"
   ]
  },
  {
   "cell_type": "code",
   "execution_count": null,
   "metadata": {},
   "outputs": [],
   "source": []
  }
 ],
 "metadata": {
  "kernelspec": {
   "display_name": "root",
   "language": "python",
   "name": "python3"
  },
  "language_info": {
   "codemirror_mode": {
    "name": "ipython",
    "version": 3
   },
   "file_extension": ".py",
   "mimetype": "text/x-python",
   "name": "python",
   "nbconvert_exporter": "python",
   "pygments_lexer": "ipython3",
   "version": "3.12.1"
  }
 },
 "nbformat": 4,
 "nbformat_minor": 2
}
